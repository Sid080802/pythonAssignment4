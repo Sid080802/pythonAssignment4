{
 "cells": [
  {
   "cell_type": "markdown",
   "id": "f65039a5",
   "metadata": {},
   "source": [
    "### 1. Write a Python Program to Find the Factorial of a Number"
   ]
  },
  {
   "cell_type": "code",
   "execution_count": 3,
   "id": "002ad4da",
   "metadata": {},
   "outputs": [
    {
     "name": "stdout",
     "output_type": "stream",
     "text": [
      "Enter the number: 4\n",
      "factorial of 4 is 24\n"
     ]
    }
   ],
   "source": [
    "def factorial(num):\n",
    "    if num==0:\n",
    "        return 1\n",
    "    else:\n",
    "        return num*factorial(num-1)\n",
    "    \n",
    "num = int(input(\"Enter the number: \"))\n",
    "\n",
    "if factorial(num):\n",
    "    print(f\"factorial of {num} is {factorial(num)}\")"
   ]
  },
  {
   "cell_type": "markdown",
   "id": "9c14721c",
   "metadata": {},
   "source": [
    "### 2. Write a Python Program to Display the multiplication Table"
   ]
  },
  {
   "cell_type": "code",
   "execution_count": 5,
   "id": "c84fd787",
   "metadata": {},
   "outputs": [
    {
     "name": "stdout",
     "output_type": "stream",
     "text": [
      "Enter the number: 5\n",
      "5\n",
      "10\n",
      "15\n",
      "20\n",
      "25\n",
      "30\n",
      "35\n",
      "40\n",
      "45\n",
      "50\n"
     ]
    }
   ],
   "source": [
    "num = int(input(\"Enter the number: \"))\n",
    "\n",
    "for i in range(1,11):\n",
    "    number = num*i\n",
    "    print(f\"{number}\")\n",
    "    i+=1\n",
    "    "
   ]
  },
  {
   "cell_type": "markdown",
   "id": "d0920062",
   "metadata": {},
   "source": [
    "### 3. Write a Python Program to Print the Fibonacci sequence"
   ]
  },
  {
   "cell_type": "code",
   "execution_count": 12,
   "id": "c5b26d13",
   "metadata": {},
   "outputs": [
    {
     "name": "stdout",
     "output_type": "stream",
     "text": [
      "Enter the number: 10\n",
      "[0, 1, 1, 2, 3, 5, 8, 13, 21, 34]\n"
     ]
    }
   ],
   "source": [
    "def fibonacci_num(num):\n",
    "    sequence = []\n",
    "    a, b = 0, 1\n",
    "       \n",
    "    for i in range(num):\n",
    "        sequence.append(a)\n",
    "        a, b = b, a+b\n",
    "    return sequence\n",
    "\n",
    "num = int(input(\"Enter the number: \"))\n",
    "if num <= 0:\n",
    "    print(\"please enter positive interger\")\n",
    "else:\n",
    "    print(fibonacci_num(num))"
   ]
  },
  {
   "cell_type": "markdown",
   "id": "3ce5a778",
   "metadata": {},
   "source": [
    "### 4. Write a Python Program to Check Armstrong Number"
   ]
  },
  {
   "cell_type": "code",
   "execution_count": 45,
   "id": "799bcb3b",
   "metadata": {},
   "outputs": [
    {
     "name": "stdout",
     "output_type": "stream",
     "text": [
      "Enter the number: 153\n",
      "153 is a armstrong number\n"
     ]
    }
   ],
   "source": [
    "def armstrong_num(num):\n",
    "    num_str = str(num)\n",
    "    num_len = len(num_str)\n",
    "    \n",
    "    armstrong_sum = sum(int(i)**num_len for i in num_str)\n",
    "    \n",
    "    return armstrong_sum == num\n",
    "\n",
    "number = int(input(\"Enter the number: \"))\n",
    "\n",
    "if armstrong_num(number):\n",
    "    print(f\"{number} is a armstrong number\")\n",
    "else:\n",
    "    print(f\"{number} is not a armstrong number\")"
   ]
  },
  {
   "cell_type": "markdown",
   "id": "f5d37601",
   "metadata": {},
   "source": [
    "### 5. Write a Python Program to Find the Sum of Natural Numbers"
   ]
  },
  {
   "cell_type": "code",
   "execution_count": 44,
   "id": "68264998",
   "metadata": {},
   "outputs": [
    {
     "name": "stdout",
     "output_type": "stream",
     "text": [
      "Enter the number: 5\n",
      "15\n"
     ]
    }
   ],
   "source": [
    "num = int(input(\"Enter the number: \"))\n",
    "total = 0\n",
    "for i in range(1,num+1):\n",
    "    total += i\n",
    "print(total)"
   ]
  },
  {
   "cell_type": "code",
   "execution_count": null,
   "id": "9c2280e3",
   "metadata": {},
   "outputs": [],
   "source": []
  }
 ],
 "metadata": {
  "kernelspec": {
   "display_name": "Python 3 (ipykernel)",
   "language": "python",
   "name": "python3"
  },
  "language_info": {
   "codemirror_mode": {
    "name": "ipython",
    "version": 3
   },
   "file_extension": ".py",
   "mimetype": "text/x-python",
   "name": "python",
   "nbconvert_exporter": "python",
   "pygments_lexer": "ipython3",
   "version": "3.11.4"
  }
 },
 "nbformat": 4,
 "nbformat_minor": 5
}
